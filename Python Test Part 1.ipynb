{
 "cells": [
  {
   "cell_type": "markdown",
   "id": "745c9982",
   "metadata": {},
   "source": [
    "# Python Test"
   ]
  },
  {
   "cell_type": "markdown",
   "id": "c8d94110",
   "metadata": {},
   "source": [
    "## Part 1\n",
    "### 1. Write a program (with function) which takes a sequence of numbers and check if all numbers are unique."
   ]
  },
  {
   "cell_type": "code",
   "execution_count": 1,
   "id": "5309b8ae",
   "metadata": {},
   "outputs": [],
   "source": [
    "import numpy as np\n",
    "import pandas as pd"
   ]
  },
  {
   "cell_type": "code",
   "execution_count": 2,
   "id": "815f1061",
   "metadata": {},
   "outputs": [],
   "source": [
    "def unique_function(list1):\n",
    "    \"\"\"function to check if all the numbers given buy the user are unique\"\"\"\n",
    "    list2 = list1\n",
    "    print(\"The numbers given by the user are : \",list2)\n",
    "    if(len(set(list2)) == len(list2)):\n",
    "        print(\"All numbers are unique !!!\")\n",
    "    else:\n",
    "        print(\"All numbers are not unique !!!\")"
   ]
  },
  {
   "cell_type": "code",
   "execution_count": 3,
   "id": "c49401d7",
   "metadata": {},
   "outputs": [
    {
     "name": "stdout",
     "output_type": "stream",
     "text": [
      "Enter the sequence of numbers separated by space 1 2 3 4 5 1\n",
      "\n",
      "\n",
      "The numbers given by the user are :  ['1', '2', '3', '4', '5', '1']\n",
      "All numbers are not unique !!!\n"
     ]
    }
   ],
   "source": [
    "input_numbers = input('Enter the sequence of numbers separated by space ')\n",
    "print(\"\\n\")\n",
    "user_list = input_numbers.split()\n",
    "unique_function(user_list)"
   ]
  },
  {
   "cell_type": "code",
   "execution_count": 4,
   "id": "23c3cc57",
   "metadata": {},
   "outputs": [
    {
     "name": "stdout",
     "output_type": "stream",
     "text": [
      "Enter the sequence of numbers separated by space 1 2 3 4 5 6\n",
      "The numbers given by the user are :  ['1', '2', '3', '4', '5', '6']\n",
      "All numbers are unique !!!\n"
     ]
    }
   ],
   "source": [
    "input_numbers = input('Enter the sequence of numbers separated by space ')\n",
    "user_list = input_numbers.split()\n",
    "unique_function(user_list)"
   ]
  },
  {
   "cell_type": "markdown",
   "id": "e2b7a960",
   "metadata": {},
   "source": [
    "### 2. Python program to find out the average of a set of integers\n",
    "### a. Note: Don’t use the pre-defined functions like np.mean\n",
    "### b. For ex: If input is 5, the output should be average of 1+2+3+4+5"
   ]
  },
  {
   "cell_type": "code",
   "execution_count": 11,
   "id": "d63344b8",
   "metadata": {},
   "outputs": [],
   "source": [
    "def average_function(list3):\n",
    "    \"\"\"function to identify the average from a set of intergers provided by the user\"\"\"\n",
    "    for i in range(len(list3)):\n",
    "        # convert each item to int type to perform arithmetic operation for calculating the average\n",
    "        list3[i] = int(list3[i])\n",
    "    # Calculating the sum of list elements\n",
    "    print(\"Sum of given numbers = \", sum(list3))\n",
    "    print(\"Count of given numbers = \", len(list3))\n",
    "    avg = sum(list3)/len(list3)\n",
    "    print(\"The average is \", round(avg,2))"
   ]
  },
  {
   "cell_type": "code",
   "execution_count": 12,
   "id": "7738542a",
   "metadata": {},
   "outputs": [
    {
     "name": "stdout",
     "output_type": "stream",
     "text": [
      "Enter the sequence of numbers separated by space 1 2 3 4 5\n",
      "Sum of given numbers =  15\n",
      "Count of given numbers =  5\n",
      "The average is  3.0\n"
     ]
    }
   ],
   "source": [
    "input_numbers1 = input('Enter the sequence of numbers separated by space ')\n",
    "user_list1 = input_numbers1.split()\n",
    "average_function(user_list1)"
   ]
  },
  {
   "cell_type": "markdown",
   "id": "207de05c",
   "metadata": {},
   "source": [
    "### 3. Python program to check whether the given integer is a multiple of both 5 and 7"
   ]
  },
  {
   "cell_type": "code",
   "execution_count": 13,
   "id": "f247c97a",
   "metadata": {},
   "outputs": [],
   "source": [
    "def multiple_check(num1):\n",
    "    \"\"\"function to check whether the given interger is a multiple of both 5 and 7\"\"\"\n",
    "    if((num1 % 5 == 0) and (num1 % 7 == 0)):\n",
    "        print(\"Given Number {0} is multiple of both 5 and 7\".format(num1))\n",
    "    else:\n",
    "        print(\"Given Number {0} is multiple of both 5 and 7\".format(num1))"
   ]
  },
  {
   "cell_type": "code",
   "execution_count": 14,
   "id": "3ac7d8e9",
   "metadata": {},
   "outputs": [
    {
     "name": "stdout",
     "output_type": "stream",
     "text": [
      "Enter any Positive Number : 35\n",
      "Given Number 35 is multiple of both 5 and 7\n"
     ]
    }
   ],
   "source": [
    "num = int(input(\"Enter any Positive Number : \"))\n",
    "multiple_check(num)"
   ]
  },
  {
   "cell_type": "markdown",
   "id": "7c2a824a",
   "metadata": {},
   "source": [
    "### 4. Python program to display the given integer in reverse manner\n",
    "### a. Ex: input 852, output should be 258"
   ]
  },
  {
   "cell_type": "code",
   "execution_count": 17,
   "id": "95282bd2",
   "metadata": {},
   "outputs": [
    {
     "name": "stdout",
     "output_type": "stream",
     "text": [
      "Enter any Positive Number : 12345\n",
      "Given number in reversed manner is: 54321\n"
     ]
    }
   ],
   "source": [
    "# Using String slicing\n",
    "num2 = int(input(\"Enter any Positive Number : \"))\n",
    "print(\"Given number in reversed manner is:\", str(num2)[::-1])"
   ]
  },
  {
   "cell_type": "markdown",
   "id": "37395a80",
   "metadata": {},
   "source": [
    "### 5. Create an inner function to calculate the addition in the following way\n",
    "### a. Create an outer function that will accept two parameters, a and b\n",
    "### b. Create an inner function inside an outer function that will calculate the addition of a and b\n",
    "### c. At last, an outer function will add 5 into addition and return it"
   ]
  },
  {
   "cell_type": "code",
   "execution_count": 23,
   "id": "e088b043",
   "metadata": {},
   "outputs": [],
   "source": [
    "# Outer Function to call the inner function and get 5 added to the sum returned from inner function\n",
    "def outer_function(a,b):\n",
    "    # Inner Function to calculte the addition of two numbers\n",
    "    def inner_function(c,d):\n",
    "        global result \n",
    "        result = c + d\n",
    "        \n",
    "    inner_function(a,b)\n",
    "    result1 = result + 5\n",
    "    return result1"
   ]
  },
  {
   "cell_type": "code",
   "execution_count": 25,
   "id": "bb133fe8",
   "metadata": {},
   "outputs": [
    {
     "name": "stdout",
     "output_type": "stream",
     "text": [
      "Enter the first Number : 15\n",
      "Enter the second Number : 20\n"
     ]
    },
    {
     "data": {
      "text/plain": [
       "40"
      ]
     },
     "execution_count": 25,
     "metadata": {},
     "output_type": "execute_result"
    }
   ],
   "source": [
    "num3 = int(input(\"Enter the first Number : \"))\n",
    "num4 = int(input(\"Enter the second Number : \"))\n",
    "outer_function(num3,num4)"
   ]
  },
  {
   "cell_type": "markdown",
   "id": "04379de5",
   "metadata": {},
   "source": [
    "### 6. Python Program to Check Leap Year\n",
    "### a. A leap year is exactly divisible by 4 except for century years (years ending with 00). The century year is a leap year only if it is perfectly divisible by 400\n",
    "### b. For ex: 2017 is not a leap year, 1900 is a not leap year, 2012 is a leap year, 2000 is a leap year"
   ]
  },
  {
   "cell_type": "code",
   "execution_count": 26,
   "id": "d0807dac",
   "metadata": {},
   "outputs": [],
   "source": [
    "def Check_leapyear(inputval):  \n",
    "  # Checking if the given year is leap year  \n",
    "  if((inputval % 400 == 0) or\n",
    "     (inputval % 4 == 0)):   \n",
    "    print(\"Given Year is a leap Year\");  \n",
    "  # Else it is not a leap year  \n",
    "  else:  \n",
    "    print (\"Given Year is NOT a leap Year\")"
   ]
  },
  {
   "cell_type": "code",
   "execution_count": 27,
   "id": "1ec19f4d",
   "metadata": {},
   "outputs": [
    {
     "name": "stdout",
     "output_type": "stream",
     "text": [
      "Enter the year which you want to check as leap year : 2017\n",
      "Given Year is NOT a leap Year\n"
     ]
    }
   ],
   "source": [
    "input_year = int(input(\"Enter the year which you want to check as leap year : \"))  \n",
    "Check_leapyear(input_year)"
   ]
  },
  {
   "cell_type": "code",
   "execution_count": 28,
   "id": "efe17824",
   "metadata": {},
   "outputs": [
    {
     "name": "stdout",
     "output_type": "stream",
     "text": [
      "Enter the year which you want to check as leap year : 2012\n",
      "Given Year is a leap Year\n"
     ]
    }
   ],
   "source": [
    "input_year = int(input(\"Enter the year which you want to check as leap year : \"))  \n",
    "Check_leapyear(input_year)"
   ]
  }
 ],
 "metadata": {
  "kernelspec": {
   "display_name": "Python 3 (ipykernel)",
   "language": "python",
   "name": "python3"
  },
  "language_info": {
   "codemirror_mode": {
    "name": "ipython",
    "version": 3
   },
   "file_extension": ".py",
   "mimetype": "text/x-python",
   "name": "python",
   "nbconvert_exporter": "python",
   "pygments_lexer": "ipython3",
   "version": "3.9.7"
  }
 },
 "nbformat": 4,
 "nbformat_minor": 5
}
