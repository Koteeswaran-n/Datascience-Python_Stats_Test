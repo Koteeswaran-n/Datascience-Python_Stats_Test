{
 "cells": [
  {
   "cell_type": "markdown",
   "id": "5aade854",
   "metadata": {},
   "source": [
    "## Python Test"
   ]
  },
  {
   "cell_type": "markdown",
   "id": "30087e23",
   "metadata": {},
   "source": [
    "## Part 3 MCQ"
   ]
  },
  {
   "cell_type": "code",
   "execution_count": null,
   "id": "3bf261e4",
   "metadata": {},
   "outputs": [],
   "source": [
    "1. B and c (two options with lamda functions)"
   ]
  },
  {
   "cell_type": "code",
   "execution_count": null,
   "id": "e16d4517",
   "metadata": {},
   "outputs": [],
   "source": [
    "2. D (is not)"
   ]
  },
  {
   "cell_type": "code",
   "execution_count": null,
   "id": "a8923af6",
   "metadata": {},
   "outputs": [],
   "source": [
    "3. C (Try with base exception as variable)"
   ]
  },
  {
   "cell_type": "code",
   "execution_count": null,
   "id": "c7be2641",
   "metadata": {},
   "outputs": [],
   "source": [
    "4. D and E"
   ]
  },
  {
   "cell_type": "code",
   "execution_count": null,
   "id": "31c2161c",
   "metadata": {},
   "outputs": [],
   "source": [
    "5. D"
   ]
  },
  {
   "cell_type": "code",
   "execution_count": null,
   "id": "2c7b1649",
   "metadata": {},
   "outputs": [],
   "source": [
    "6. B (answer is 5)"
   ]
  },
  {
   "cell_type": "code",
   "execution_count": null,
   "id": "df7a94eb",
   "metadata": {},
   "outputs": [],
   "source": [
    "7. C (return x,y)"
   ]
  },
  {
   "cell_type": "code",
   "execution_count": null,
   "id": "62820079",
   "metadata": {},
   "outputs": [],
   "source": [
    "8. A"
   ]
  },
  {
   "cell_type": "code",
   "execution_count": null,
   "id": "037c2199",
   "metadata": {},
   "outputs": [],
   "source": [
    "9. C and D (True and Stop)"
   ]
  },
  {
   "cell_type": "code",
   "execution_count": null,
   "id": "73b78793",
   "metadata": {},
   "outputs": [],
   "source": [
    "10. A"
   ]
  },
  {
   "cell_type": "code",
   "execution_count": null,
   "id": "b9e771c3",
   "metadata": {},
   "outputs": [],
   "source": [
    "11. C"
   ]
  },
  {
   "cell_type": "code",
   "execution_count": null,
   "id": "0e23dd6f",
   "metadata": {},
   "outputs": [],
   "source": [
    "12. C"
   ]
  },
  {
   "cell_type": "code",
   "execution_count": null,
   "id": "b31858ba",
   "metadata": {},
   "outputs": [],
   "source": [
    "13. C "
   ]
  }
 ],
 "metadata": {
  "kernelspec": {
   "display_name": "Python 3 (ipykernel)",
   "language": "python",
   "name": "python3"
  },
  "language_info": {
   "codemirror_mode": {
    "name": "ipython",
    "version": 3
   },
   "file_extension": ".py",
   "mimetype": "text/x-python",
   "name": "python",
   "nbconvert_exporter": "python",
   "pygments_lexer": "ipython3",
   "version": "3.9.7"
  }
 },
 "nbformat": 4,
 "nbformat_minor": 5
}
